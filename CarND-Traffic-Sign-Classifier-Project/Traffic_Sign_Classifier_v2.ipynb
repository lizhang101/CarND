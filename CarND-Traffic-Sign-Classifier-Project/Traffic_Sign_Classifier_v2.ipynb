{
 "cells": [
  {
   "cell_type": "markdown",
   "metadata": {},
   "source": [
    "# Self-Driving Car Engineer Nanodegree\n",
    "\n",
    "## Deep Learning\n",
    "\n",
    "## Project: Build a Traffic Sign Recognition Classifier\n",
    "\n",
    "In this notebook, a template is provided for you to implement your functionality in stages, which is required to successfully complete this project. If additional code is required that cannot be included in the notebook, be sure that the Python code is successfully imported and included in your submission if necessary. \n",
    "\n",
    "> **Note**: Once you have completed all of the code implementations, you need to finalize your work by exporting the iPython Notebook as an HTML document. Before exporting the notebook to html, all of the code cells need to have been run so that reviewers can see the final implementation and output. You can then export the notebook by using the menu above and navigating to  \\n\",\n",
    "    \"**File -> Download as -> HTML (.html)**. Include the finished document along with this notebook as your submission. \n",
    "\n",
    "In addition to implementing code, there is a writeup to complete. The writeup should be completed in a separate file, which can be either a markdown file or a pdf document. There is a [write up template](https://github.com/udacity/CarND-Traffic-Sign-Classifier-Project/blob/master/writeup_template.md) that can be used to guide the writing process. Completing the code template and writeup template will cover all of the [rubric points](https://review.udacity.com/#!/rubrics/481/view) for this project.\n",
    "\n",
    "The [rubric](https://review.udacity.com/#!/rubrics/481/view) contains \"Stand Out Suggestions\" for enhancing the project beyond the minimum requirements. The stand out suggestions are optional. If you decide to pursue the \"stand out suggestions\", you can include the code in this Ipython notebook and also discuss the results in the writeup file.\n",
    "\n",
    "\n",
    ">**Note:** Code and Markdown cells can be executed using the **Shift + Enter** keyboard shortcut. In addition, Markdown cells can be edited by typically double-clicking the cell to enter edit mode."
   ]
  },
  {
   "cell_type": "markdown",
   "metadata": {},
   "source": [
    "---\n",
    "## Step 0: Load The Data"
   ]
  },
  {
   "cell_type": "code",
   "execution_count": 1,
   "metadata": {},
   "outputs": [
    {
     "name": "stdout",
     "output_type": "stream",
     "text": [
      "Tensorflow Version: 1.0.1\n"
     ]
    }
   ],
   "source": [
    "import matplotlib.pyplot as plt\n",
    "# Visualizations will be shown in the notebook.\n",
    "%matplotlib inline\n",
    "\n",
    "import pickle\n",
    "import numpy as np\n",
    "import random\n",
    "from pandas import DataFrame, read_csv\n",
    "import pandas as pd\n",
    "\n",
    "import cv2\n",
    "from sklearn.utils import shuffle\n",
    "import tensorflow as tf\n",
    "from tensorflow.contrib.layers import flatten\n",
    "print(\"Tensorflow Version:\", tf.__version__)"
   ]
  },
  {
   "cell_type": "code",
   "execution_count": 2,
   "metadata": {
    "collapsed": true
   },
   "outputs": [],
   "source": [
    "# TODO: Fill this in based on where you saved the training and testing data\n",
    "\n",
    "training_file = \"./train.p\"\n",
    "validation_file= \"./valid.p\"\n",
    "testing_file = \"./test.p\"\n",
    "\n",
    "with open(training_file, mode='rb') as f:\n",
    "    train = pickle.load(f)\n",
    "with open(validation_file, mode='rb') as f:\n",
    "    valid = pickle.load(f)\n",
    "with open(testing_file, mode='rb') as f:\n",
    "    test = pickle.load(f)\n",
    "    \n",
    "X_train, y_train = train['features'], train['labels']\n",
    "X_valid, y_valid = valid['features'], valid['labels']\n",
    "X_test, y_test = test['features'], test['labels']"
   ]
  },
  {
   "cell_type": "markdown",
   "metadata": {},
   "source": [
    "---\n",
    "\n",
    "## Step 1: Dataset Summary & Exploration\n",
    "\n",
    "The pickled data is a dictionary with 4 key/value pairs:\n",
    "\n",
    "- `'features'` is a 4D array containing raw pixel data of the traffic sign images, (num examples, width, height, channels).\n",
    "- `'labels'` is a 1D array containing the label/class id of the traffic sign. The file `signnames.csv` contains id -> name mappings for each id.\n",
    "- `'sizes'` is a list containing tuples, (width, height) representing the original width and height the image.\n",
    "- `'coords'` is a list containing tuples, (x1, y1, x2, y2) representing coordinates of a bounding box around the sign in the image. **THESE COORDINATES ASSUME THE ORIGINAL IMAGE. THE PICKLED DATA CONTAINS RESIZED VERSIONS (32 by 32) OF THESE IMAGES**\n",
    "\n",
    "Complete the basic data summary below. Use python, numpy and/or pandas methods to calculate the data summary rather than hard coding the results. For example, the [pandas shape method](http://pandas.pydata.org/pandas-docs/stable/generated/pandas.DataFrame.shape.html) might be useful for calculating some of the summary results. "
   ]
  },
  {
   "cell_type": "markdown",
   "metadata": {},
   "source": [
    "### Provide a Basic Summary of the Data Set Using Python, Numpy and/or Pandas"
   ]
  },
  {
   "cell_type": "code",
   "execution_count": 3,
   "metadata": {},
   "outputs": [
    {
     "name": "stdout",
     "output_type": "stream",
     "text": [
      "Number of training examples = 34799\n",
      "Number of validation examples = 4410\n",
      "Number of testing examples = 12630\n",
      "Image data shape = (32, 32, 3)\n",
      "Number of classes = 43\n"
     ]
    }
   ],
   "source": [
    "### Replace each question mark with the appropriate value. \n",
    "### Use python, pandas or numpy methods rather than hard coding the results\n",
    "\n",
    "#Since the variables are np array, using numpy\n",
    "#import numpy as np\n",
    "\n",
    "# TODO: Number of training examples\n",
    "n_train = X_train.shape[0]\n",
    "\n",
    "# TODO: Number of validation examples\n",
    "n_validation = X_valid.shape[0]\n",
    "\n",
    "# TODO: Number of testing examples.\n",
    "n_test = X_test.shape[0]\n",
    "\n",
    "# TODO: What's the shape of an traffic sign image?\n",
    "image_shape = X_train.shape[1:]\n",
    "\n",
    "# TODO: How many unique classes/labels there are in the dataset.\n",
    "n_classes = np.unique(y_train).shape[0]\n",
    "\n",
    "print(\"Number of training examples =\", n_train)\n",
    "print(\"Number of validation examples =\", n_validation)\n",
    "print(\"Number of testing examples =\", n_test)\n",
    "print(\"Image data shape =\", image_shape)\n",
    "print(\"Number of classes =\", n_classes)"
   ]
  },
  {
   "cell_type": "markdown",
   "metadata": {},
   "source": [
    "### Include an exploratory visualization of the dataset"
   ]
  },
  {
   "cell_type": "markdown",
   "metadata": {},
   "source": [
    "Visualize the German Traffic Signs Dataset using the pickled file(s). This is open ended, suggestions include: plotting traffic sign images, plotting the count of each sign, etc. \n",
    "\n",
    "The [Matplotlib](http://matplotlib.org/) [examples](http://matplotlib.org/examples/index.html) and [gallery](http://matplotlib.org/gallery.html) pages are a great resource for doing visualizations in Python.\n",
    "\n",
    "**NOTE:** It's recommended you start with something simple first. If you wish to do more, come back to it after you've completed the rest of the sections. It can be interesting to look at the distribution of classes in the training, validation and test set. Is the distribution the same? Are there more examples of some classes than others?"
   ]
  },
  {
   "cell_type": "markdown",
   "metadata": {},
   "source": [
    "Get The class distribution in the Trainning, Validation, and Test data set."
   ]
  },
  {
   "cell_type": "code",
   "execution_count": 4,
   "metadata": {},
   "outputs": [
    {
     "data": {
      "text/html": [
       "<div>\n",
       "<style>\n",
       "    .dataframe thead tr:only-child th {\n",
       "        text-align: right;\n",
       "    }\n",
       "\n",
       "    .dataframe thead th {\n",
       "        text-align: left;\n",
       "    }\n",
       "\n",
       "    .dataframe tbody tr th {\n",
       "        vertical-align: top;\n",
       "    }\n",
       "</style>\n",
       "<table border=\"1\" class=\"dataframe\">\n",
       "  <thead>\n",
       "    <tr style=\"text-align: right;\">\n",
       "      <th></th>\n",
       "      <th>ClassId</th>\n",
       "      <th>SignName</th>\n",
       "      <th>Training</th>\n",
       "      <th>Validation</th>\n",
       "      <th>Test</th>\n",
       "    </tr>\n",
       "  </thead>\n",
       "  <tbody>\n",
       "    <tr>\n",
       "      <th>0</th>\n",
       "      <td>0</td>\n",
       "      <td>Speed limit (20km/h)</td>\n",
       "      <td>180</td>\n",
       "      <td>30</td>\n",
       "      <td>60</td>\n",
       "    </tr>\n",
       "    <tr>\n",
       "      <th>1</th>\n",
       "      <td>1</td>\n",
       "      <td>Speed limit (30km/h)</td>\n",
       "      <td>1980</td>\n",
       "      <td>240</td>\n",
       "      <td>720</td>\n",
       "    </tr>\n",
       "    <tr>\n",
       "      <th>2</th>\n",
       "      <td>2</td>\n",
       "      <td>Speed limit (50km/h)</td>\n",
       "      <td>2010</td>\n",
       "      <td>240</td>\n",
       "      <td>750</td>\n",
       "    </tr>\n",
       "    <tr>\n",
       "      <th>3</th>\n",
       "      <td>3</td>\n",
       "      <td>Speed limit (60km/h)</td>\n",
       "      <td>1260</td>\n",
       "      <td>150</td>\n",
       "      <td>450</td>\n",
       "    </tr>\n",
       "    <tr>\n",
       "      <th>4</th>\n",
       "      <td>4</td>\n",
       "      <td>Speed limit (70km/h)</td>\n",
       "      <td>1770</td>\n",
       "      <td>210</td>\n",
       "      <td>660</td>\n",
       "    </tr>\n",
       "  </tbody>\n",
       "</table>\n",
       "</div>"
      ],
      "text/plain": [
       "   ClassId              SignName  Training  Validation  Test\n",
       "0        0  Speed limit (20km/h)       180          30    60\n",
       "1        1  Speed limit (30km/h)      1980         240   720\n",
       "2        2  Speed limit (50km/h)      2010         240   750\n",
       "3        3  Speed limit (60km/h)      1260         150   450\n",
       "4        4  Speed limit (70km/h)      1770         210   660"
      ]
     },
     "execution_count": 4,
     "metadata": {},
     "output_type": "execute_result"
    }
   ],
   "source": [
    "sign_df = read_csv(\"./signnames.csv\")\n",
    "train_distribution = np.unique(y_train,return_counts=True)\n",
    "valid_distribution = np.unique(y_valid, return_counts=True)\n",
    "test_distribution = np.unique(y_test, return_counts=True)\n",
    "sign_df['Training'] = (pd.Series(train_distribution[1], index=train_distribution[0],name='Train'))\n",
    "sign_df['Validation'] = (pd.Series(valid_distribution[1], index=train_distribution[0],name='Train'))\n",
    "sign_df['Test'] = (pd.Series(test_distribution[1], index=train_distribution[0],name='Train'))\n",
    "sign_classes = sign_df['SignName']\n",
    "sign_df.head()"
   ]
  },
  {
   "cell_type": "code",
   "execution_count": 5,
   "metadata": {},
   "outputs": [
    {
     "data": {
      "image/png": "[encoded data removed]",
      "text/plain": [
       "<matplotlib.figure.Figure at 0x7f35b40fa3c8>"
      ]
     },
     "metadata": {},
     "output_type": "display_data"
    }
   ],
   "source": [
    "#Plot number of images per class\n",
    "plt.figure(figsize=(12, 4))\n",
    "plt.bar(*train_distribution)\n",
    "plt.title(\"Distribution of the train dataset\")\n",
    "plt.xlabel(\"Class number\")\n",
    "plt.ylabel(\"Number of images\")\n",
    "plt.show()"
   ]
  },
  {
   "cell_type": "code",
   "execution_count": 6,
   "metadata": {},
   "outputs": [
    {
     "data": {
      "text/html": [
       "<div>\n",
       "<style>\n",
       "    .dataframe thead tr:only-child th {\n",
       "        text-align: right;\n",
       "    }\n",
       "\n",
       "    .dataframe thead th {\n",
       "        text-align: left;\n",
       "    }\n",
       "\n",
       "    .dataframe tbody tr th {\n",
       "        vertical-align: top;\n",
       "    }\n",
       "</style>\n",
       "<table border=\"1\" class=\"dataframe\">\n",
       "  <thead>\n",
       "    <tr style=\"text-align: right;\">\n",
       "      <th></th>\n",
       "      <th>ClassId</th>\n",
       "      <th>Training</th>\n",
       "      <th>Validation</th>\n",
       "      <th>Test</th>\n",
       "    </tr>\n",
       "  </thead>\n",
       "  <tbody>\n",
       "    <tr>\n",
       "      <th>count</th>\n",
       "      <td>43.000000</td>\n",
       "      <td>43.000000</td>\n",
       "      <td>43.000000</td>\n",
       "      <td>43.000000</td>\n",
       "    </tr>\n",
       "    <tr>\n",
       "      <th>mean</th>\n",
       "      <td>21.000000</td>\n",
       "      <td>809.279070</td>\n",
       "      <td>102.558140</td>\n",
       "      <td>293.720930</td>\n",
       "    </tr>\n",
       "    <tr>\n",
       "      <th>std</th>\n",
       "      <td>12.556539</td>\n",
       "      <td>626.750855</td>\n",
       "      <td>69.662213</td>\n",
       "      <td>233.442389</td>\n",
       "    </tr>\n",
       "    <tr>\n",
       "      <th>min</th>\n",
       "      <td>0.000000</td>\n",
       "      <td>180.000000</td>\n",
       "      <td>30.000000</td>\n",
       "      <td>60.000000</td>\n",
       "    </tr>\n",
       "    <tr>\n",
       "      <th>25%</th>\n",
       "      <td>10.500000</td>\n",
       "      <td>285.000000</td>\n",
       "      <td>60.000000</td>\n",
       "      <td>90.000000</td>\n",
       "    </tr>\n",
       "    <tr>\n",
       "      <th>50%</th>\n",
       "      <td>21.000000</td>\n",
       "      <td>540.000000</td>\n",
       "      <td>60.000000</td>\n",
       "      <td>180.000000</td>\n",
       "    </tr>\n",
       "    <tr>\n",
       "      <th>75%</th>\n",
       "      <td>31.500000</td>\n",
       "      <td>1275.000000</td>\n",
       "      <td>150.000000</td>\n",
       "      <td>450.000000</td>\n",
       "    </tr>\n",
       "    <tr>\n",
       "      <th>max</th>\n",
       "      <td>42.000000</td>\n",
       "      <td>2010.000000</td>\n",
       "      <td>240.000000</td>\n",
       "      <td>750.000000</td>\n",
       "    </tr>\n",
       "  </tbody>\n",
       "</table>\n",
       "</div>"
      ],
      "text/plain": [
       "         ClassId     Training  Validation        Test\n",
       "count  43.000000    43.000000   43.000000   43.000000\n",
       "mean   21.000000   809.279070  102.558140  293.720930\n",
       "std    12.556539   626.750855   69.662213  233.442389\n",
       "min     0.000000   180.000000   30.000000   60.000000\n",
       "25%    10.500000   285.000000   60.000000   90.000000\n",
       "50%    21.000000   540.000000   60.000000  180.000000\n",
       "75%    31.500000  1275.000000  150.000000  450.000000\n",
       "max    42.000000  2010.000000  240.000000  750.000000"
      ]
     },
     "execution_count": 6,
     "metadata": {},
     "output_type": "execute_result"
    }
   ],
   "source": [
    "sign_df.describe()"
   ]
  },
  {
   "cell_type": "markdown",
   "metadata": {},
   "source": [
    "Display some pictures in the data set."
   ]
  },
  {
   "cell_type": "code",
   "execution_count": 7,
   "metadata": {},
   "outputs": [
    {
     "name": "stdout",
     "output_type": "stream",
     "text": [
      "class:0 shape:(180, 32, 32, 3)\n",
      "class:1 shape:(1980, 32, 32, 3)\n",
      "class:2 shape:(2010, 32, 32, 3)\n",
      "class:3 shape:(1260, 32, 32, 3)\n",
      "class:4 shape:(1770, 32, 32, 3)\n",
      "class:5 shape:(1650, 32, 32, 3)\n",
      "class:6 shape:(360, 32, 32, 3)\n",
      "class:7 shape:(1290, 32, 32, 3)\n",
      "class:8 shape:(1260, 32, 32, 3)\n",
      "class:9 shape:(1320, 32, 32, 3)\n",
      "class:10 shape:(1800, 32, 32, 3)\n",
      "class:11 shape:(1170, 32, 32, 3)\n",
      "class:12 shape:(1890, 32, 32, 3)\n",
      "class:13 shape:(1920, 32, 32, 3)\n",
      "class:14 shape:(690, 32, 32, 3)\n",
      "class:15 shape:(540, 32, 32, 3)\n",
      "class:16 shape:(360, 32, 32, 3)\n",
      "class:17 shape:(990, 32, 32, 3)\n",
      "class:18 shape:(1080, 32, 32, 3)\n",
      "class:19 shape:(180, 32, 32, 3)\n",
      "class:20 shape:(300, 32, 32, 3)\n",
      "class:21 shape:(270, 32, 32, 3)\n",
      "class:22 shape:(330, 32, 32, 3)\n",
      "class:23 shape:(450, 32, 32, 3)\n",
      "class:24 shape:(240, 32, 32, 3)\n",
      "class:25 shape:(1350, 32, 32, 3)\n",
      "class:26 shape:(540, 32, 32, 3)\n",
      "class:27 shape:(210, 32, 32, 3)\n",
      "class:28 shape:(480, 32, 32, 3)\n",
      "class:29 shape:(240, 32, 32, 3)\n",
      "class:30 shape:(390, 32, 32, 3)\n",
      "class:31 shape:(690, 32, 32, 3)\n",
      "class:32 shape:(210, 32, 32, 3)\n",
      "class:33 shape:(599, 32, 32, 3)\n",
      "class:34 shape:(360, 32, 32, 3)\n",
      "class:35 shape:(1080, 32, 32, 3)\n",
      "class:36 shape:(330, 32, 32, 3)\n",
      "class:37 shape:(180, 32, 32, 3)\n",
      "class:38 shape:(1860, 32, 32, 3)\n",
      "class:39 shape:(270, 32, 32, 3)\n",
      "class:40 shape:(300, 32, 32, 3)\n",
      "class:41 shape:(210, 32, 32, 3)\n",
      "class:42 shape:(210, 32, 32, 3)\n"
     ]
    },
    {
     "data": {
      "image/png": "[encoded data removed]",
      "text/plain": [
       "<matplotlib.figure.Figure at 0x7f35b4045c88>"
      ]
     },
     "metadata": {},
     "output_type": "display_data"
    }
   ],
   "source": [
    "#draw the first image of each class\n",
    "plt.figure(figsize=(6,12))\n",
    "for i in range(n_classes):\n",
    "    plt.subplot(6, 8, i+1)\n",
    "    class_images = X_train[y_train == i]\n",
    "    print (\"class:{} shape:{}\".format(i, class_images.shape))\n",
    "    plt.imshow(class_images[0, :, :, :]) \n",
    "    plt.title(i)\n",
    "    plt.axis('off')\n",
    "plt.show()"
   ]
  },
  {
   "cell_type": "markdown",
   "metadata": {},
   "source": [
    "----\n",
    "\n",
    "## Step 2: Design and Test a Model Architecture\n",
    "\n",
    "Design and implement a deep learning model that learns to recognize traffic signs. Train and test your model on the [German Traffic Sign Dataset](http://benchmark.ini.rub.de/?section=gtsrb&subsection=dataset).\n",
    "\n",
    "The LeNet-5 implementation shown in the [classroom](https://classroom.udacity.com/nanodegrees/nd013/parts/fbf77062-5703-404e-b60c-95b78b2f3f9e/modules/6df7ae49-c61c-4bb2-a23e-6527e69209ec/lessons/601ae704-1035-4287-8b11-e2c2716217ad/concepts/d4aca031-508f-4e0b-b493-e7b706120f81) at the end of the CNN lesson is a solid starting point. You'll have to change the number of classes and possibly the preprocessing, but aside from that it's plug and play! \n",
    "\n",
    "With the LeNet-5 solution from the lecture, you should expect a validation set accuracy of about 0.89. To meet specifications, the validation set accuracy will need to be at least 0.93. It is possible to get an even higher accuracy, but 0.93 is the minimum for a successful project submission. \n",
    "\n",
    "There are various aspects to consider when thinking about this problem:\n",
    "\n",
    "- Neural network architecture (is the network over or underfitting?)\n",
    "- Play around preprocessing techniques (normalization, rgb to grayscale, etc)\n",
    "- Number of examples per label (some have more than others).\n",
    "- Generate fake data.\n",
    "\n",
    "Here is an example of a [published baseline model on this problem](http://yann.lecun.com/exdb/publis/pdf/sermanet-ijcnn-11.pdf). It's not required to be familiar with the approach used in the paper but, it's good practice to try to read papers like these."
   ]
  },
  {
   "cell_type": "markdown",
   "metadata": {},
   "source": [
    "### Pre-process the Data Set (normalization, grayscale, etc.)"
   ]
  },
  {
   "cell_type": "markdown",
   "metadata": {},
   "source": [
    "Minimally, the image data should be normalized so that the data has mean zero and equal variance. For image data, `(pixel - 128)/ 128` is a quick way to approximately normalize the data and can be used in this project. \n",
    "\n",
    "Other pre-processing steps are optional. You can try different techniques to see if it improves performance. \n",
    "\n",
    "Use the code cell (or multiple code cells, if necessary) to implement the first step of your project."
   ]
  },
  {
   "cell_type": "code",
   "execution_count": 8,
   "metadata": {
    "collapsed": true
   },
   "outputs": [],
   "source": [
    "#image processing functions\n",
    "def eq_Hist(imgs):\n",
    "    imgs_out = []\n",
    "    for img in imgs:\n",
    "        img2=img.copy() \n",
    "        img2[:, :, 0] = cv2.equalizeHist(img[:, :, 0])\n",
    "        img2[:, :, 1] = cv2.equalizeHist(img[:, :, 1])\n",
    "        img2[:, :, 2] = cv2.equalizeHist(img[:, :, 2])\n",
    "        imgs_out.append(img2)\n",
    "    return np.asarray(imgs_out)\n",
    "\n",
    "\n",
    "# Convert to grayscale\n",
    "def rgb2gray(imgs):\n",
    "    return np.sum(imgs/3, axis=3, keepdims=True)\n",
    "\n",
    "def normalize(imgs):\n",
    "    return (imgs-128.0)/128.0\n",
    "\n",
    "def show_images(imgs):\n",
    "    plt.figure(figsize=(6, 2))\n",
    "    n = len(imgs)\n",
    "    i = 1\n",
    "    for img in imgs:\n",
    "        plt.subplot(1, n, i)\n",
    "        i+=1\n",
    "        if img.shape[-1]==1:\n",
    "            plt.imshow(img.squeeze(),cmap='gray')\n",
    "        else:\n",
    "            plt.imshow(img.squeeze())"
   ]
  },
  {
   "cell_type": "code",
   "execution_count": 9,
   "metadata": {},
   "outputs": [
    {
     "name": "stdout",
     "output_type": "stream",
     "text": [
      "Source shape: (34799, 32, 32, 3)\n",
      "Grayscale shape: (34799, 32, 32, 1)\n",
      "selected image#: 30537\n"
     ]
    },
    {
     "data": {
      "image/png": "[encoded data removed]",
      "text/plain": [
       "<matplotlib.figure.Figure at 0x7fd5261d6978>"
      ]
     },
     "metadata": {},
     "output_type": "display_data"
    }
   ],
   "source": [
    "X_train_eqH = eq_Hist(X_train)\n",
    "X_train_gray = rgb2gray(X_train_eqH)\n",
    "X_train_normalized = normalize(X_train_gray)\n",
    "\n",
    "print('Source shape:', X_train.shape)\n",
    "print('Grayscale shape:', X_train_gray.shape)\n",
    "\n",
    "#show the images before and after grayscale & normorlization\n",
    "index = random.randint(0, len(X_train))\n",
    "print(\"selected image#:\",index)\n",
    "show_images((X_train[index], X_train_normalized[index]))\n",
    "\n",
    "X_train = X_train_normalized\n",
    "X_valid = normalize(rgb2gray(eq_Hist(X_valid)))\n",
    "X_test = normalize(rgb2gray(eq_Hist(X_test)))\n",
    "test_img = X_train_normalized[index]"
   ]
  },
  {
   "cell_type": "code",
   "execution_count": 10,
   "metadata": {},
   "outputs": [
    {
     "name": "stdout",
     "output_type": "stream",
     "text": [
      "Before and After random translation\n"
     ]
    },
    {
     "data": {
      "image/png": "[encoded data removed]",
      "text/plain": [
       "<matplotlib.figure.Figure at 0x7fd52615e4e0>"
      ]
     },
     "metadata": {},
     "output_type": "display_data"
    }
   ],
   "source": [
    "def randtranslate_img(img):\n",
    "    # translate image up to m pixels in x and y directions\n",
    "    m = 3\n",
    "    rows,cols,_ = img.shape\n",
    "    dx,dy = np.random.randint(-m,m,2)\n",
    "    M = np.float32([[1,0,dx],[0,1,dy]])\n",
    "    img2 = cv2.warpAffine(img,M,(cols,rows))\n",
    "    img2 = img2[:,:,np.newaxis]\n",
    "    return img2\n",
    "img2 = randtranslate_img(test_img)\n",
    "\n",
    "show_images((test_img, img2))\n",
    "print(\"Before and After random translation\")\n",
    "\n"
   ]
  },
  {
   "cell_type": "code",
   "execution_count": 11,
   "metadata": {},
   "outputs": [
    {
     "name": "stdout",
     "output_type": "stream",
     "text": [
      "Before and After random scaling\n"
     ]
    },
    {
     "data": {
      "image/png": "[encoded data removed]",
      "text/plain": [
       "<matplotlib.figure.Figure at 0x7fd5257b3320>"
      ]
     },
     "metadata": {},
     "output_type": "display_data"
    }
   ],
   "source": [
    "\n",
    "def randscale_img(img):   \n",
    "    rows,cols,_ = img.shape\n",
    "    # scale up to m pixels \n",
    "    m = np.random.randint(-3,3)\n",
    "    # from points \n",
    "    starts = np.float32([[0,0],[rows,0],[0,cols],[rows,cols]])\n",
    "    # to points\n",
    "    ends = np.float32([[m,m],[rows-m,m],[m,cols-m],[rows-m,cols-m]])\n",
    "    M = cv2.getPerspectiveTransform(starts,ends)\n",
    "    img2 = cv2.warpPerspective(img,M,(rows,cols))\n",
    "    img2 = img2[:,:,np.newaxis]\n",
    "    return img2\n",
    "\n",
    "img2 = randscale_img(test_img)\n",
    "show_images((test_img, img2))\n",
    "print(\"Before and After random scaling\")\n"
   ]
  },
  {
   "cell_type": "code",
   "execution_count": 12,
   "metadata": {},
   "outputs": [
    {
     "name": "stdout",
     "output_type": "stream",
     "text": [
      "Before and After random warping\n"
     ]
    },
    {
     "data": {
      "image/png": "[encoded data removed]",
      "text/plain": [
       "<matplotlib.figure.Figure at 0x7fd5226642b0>"
      ]
     },
     "metadata": {},
     "output_type": "display_data"
    }
   ],
   "source": [
    "def randwarp_img(img):\n",
    "    rows,cols,_ = img.shape\n",
    "    rndx = np.random.rand(5) - 0.5\n",
    "    #degree of warping\n",
    "    rndx *= cols * 0.06\n",
    "    rndy = np.random.rand(5) - 0.5\n",
    "    rndy *= rows * 0.06\n",
    "\n",
    "    x1 = cols/4\n",
    "    x2 = 3*cols/4\n",
    "    y1 = rows/4\n",
    "    y2 = 3*rows/4\n",
    "\n",
    "    starts = np.float32([[y1,x1],\n",
    "                       [y2,x1],\n",
    "                       [y1,x2]])\n",
    "    ends = np.float32([[y1+rndy[0],x1+rndx[0]],\n",
    "                       [y2+rndy[1],x1+rndx[1]],\n",
    "                       [y1+rndy[2],x2+rndx[2]]])\n",
    "\n",
    "    M = cv2.getAffineTransform(starts,ends)\n",
    "    img2 = cv2.warpAffine(img,M,(cols,rows))\n",
    "    img2 = img2[:,:,np.newaxis]\n",
    "    return img2\n",
    "\n",
    "img2 = randwarp_img(test_img)\n",
    "show_images((test_img, img2))\n",
    "print(\"Before and After random warping\")\n"
   ]
  },
  {
   "cell_type": "code",
   "execution_count": 13,
   "metadata": {},
   "outputs": [
    {
     "name": "stdout",
     "output_type": "stream",
     "text": [
      "Before and After random brighten\n"
     ]
    },
    {
     "data": {
      "image/png": "[encoded data removed]",
      "text/plain": [
       "<matplotlib.figure.Figure at 0x7fd5227be7b8>"
      ]
     },
     "metadata": {},
     "output_type": "display_data"
    }
   ],
   "source": [
    "def randbrighten_img(img):\n",
    "    #brighten an image by linear function\n",
    "    shifted = img + 1.0\n",
    "    img_max_value = max(shifted.flatten())\n",
    "    max_coef = 2.0/img_max_value\n",
    "    min_coef = max_coef - 0.3\n",
    "    coef = np.random.uniform(min_coef, max_coef)\n",
    "    img2 = shifted * coef - 1.0\n",
    "    return img2\n",
    "\n",
    "img2 = randbrighten_img(test_img)\n",
    "show_images((test_img, img2))\n",
    "print(\"Before and After random brighten\")"
   ]
  },
  {
   "cell_type": "code",
   "execution_count": 14,
   "metadata": {},
   "outputs": [
    {
     "data": {
      "image/png": "[encoded data removed]",
      "text/plain": [
       "<matplotlib.figure.Figure at 0x7fd52250c0f0>"
      ]
     },
     "metadata": {},
     "output_type": "display_data"
    }
   ],
   "source": [
    "#check one Augmented image\n",
    "img = X_train[3]\n",
    "img = randbrighten_img(img)\n",
    "img = randwarp_img(img)\n",
    "img = randscale_img(img)\n",
    "img = randtranslate_img(img)\n",
    "show_images([img])"
   ]
  },
  {
   "cell_type": "code",
   "execution_count": null,
   "metadata": {},
   "outputs": [],
   "source": [
    "for n in range(n_classes):\n",
    "    #average samples per class is 800.\n",
    "    #Make all the classes have 400 samples at least\n",
    "    n_samples = sign_df['Training'][n]\n",
    "    threshold = 800\n",
    "    if  n_samples < threshold:\n",
    "        class_indices = np.where(y_train == n)\n",
    "        for i in range(threshold - n_samples):\n",
    "            img = X_train[class_indices[0][i % n_samples]]\n",
    "            img = randbrighten_img(img)\n",
    "            img = randwarp_img(img)\n",
    "            img = randscale_img(img)\n",
    "            img = randtranslate_img(img)\n",
    "            X_train = np.concatenate((X_train, [img]), axis=0)\n",
    "            y_train = np.concatenate((y_train, [n]), axis=0)\n",
    "        print('Added {} Augmented images for class:{}'.format((threshold-n_samples), n))\n",
    "            \n",
    "print('X, y shapes:', X_train.shape, y_train.shape)"
   ]
  },
  {
   "cell_type": "code",
   "execution_count": null,
   "metadata": {
    "collapsed": true
   },
   "outputs": [],
   "source": [
    "with open('new_train.p', 'wb') as handle:\n",
    "    t = {'features':X_train, 'labels':y_train}\n",
    "    pickle.dump(t, handle, protocol=pickle.HIGHEST_PROTOCOL)\n",
    "with open('new_valid.p', 'wb') as handle:\n",
    "    t = {'features':X_valid, 'labels':y_valid}\n",
    "    pickle.dump(t, handle, protocol=pickle.HIGHEST_PROTOCOL)\n",
    "with open('new_test.p', 'wb') as handle:\n",
    "    t = {'features':X_test, 'labels':y_test}\n",
    "    pickle.dump(t, handle, protocol=pickle.HIGHEST_PROTOCOL)\n",
    "with open('summary.p', 'wb') as handle:\n",
    "    t = {'class_names':sign_classes}\n",
    "    pickle.dump(t, handle, protocol=pickle.HIGHEST_PROTOCOL)"
   ]
  },
  {
   "cell_type": "markdown",
   "metadata": {},
   "source": [
    "CHECK POINT"
   ]
  },
  {
   "cell_type": "code",
   "execution_count": 9,
   "metadata": {},
   "outputs": [
    {
     "name": "stdout",
     "output_type": "stream",
     "text": [
      "Number of training examples = 46480\n",
      "Number of validation examples = 4410\n",
      "Number of testing examples = 12630\n",
      "Image data shape = (32, 32, 1)\n",
      "Number of classes = 43\n"
     ]
    }
   ],
   "source": [
    "training_file = \"./new_train.p\"\n",
    "validation_file= \"./new_valid.p\"\n",
    "testing_file = \"./new_test.p\"\n",
    "\n",
    "with open(training_file, mode='rb') as f:\n",
    "    train = pickle.load(f)\n",
    "with open(validation_file, mode='rb') as f:\n",
    "    valid = pickle.load(f)\n",
    "with open(testing_file, mode='rb') as f:\n",
    "    test = pickle.load(f)\n",
    "    \n",
    "X_train, y_train = train['features'], train['labels']\n",
    "X_valid, y_valid = valid['features'], valid['labels']\n",
    "X_test, y_test = test['features'], test['labels']\n",
    "\n",
    "n_train = X_train.shape[0]\n",
    "n_validation = X_valid.shape[0]\n",
    "n_test = X_test.shape[0]\n",
    "image_shape = X_train.shape[1:]\n",
    "n_classes = np.unique(y_train).shape[0]\n",
    "\n",
    "print(\"Number of training examples =\", n_train)\n",
    "print(\"Number of validation examples =\", n_validation)\n",
    "print(\"Number of testing examples =\", n_test)\n",
    "print(\"Image data shape =\", image_shape)\n",
    "print(\"Number of classes =\", n_classes)"
   ]
  },
  {
   "cell_type": "code",
   "execution_count": 10,
   "metadata": {},
   "outputs": [
    {
     "data": {
      "image/png": "[encoded data removed]",
      "text/plain": [
       "<matplotlib.figure.Figure at 0x7f35b3fcd7b8>"
      ]
     },
     "metadata": {},
     "output_type": "display_data"
    }
   ],
   "source": [
    "train_distribution = np.unique(y_train,return_counts=True)\n",
    "#Plot number of images per class\n",
    "plt.figure(figsize=(12, 4))\n",
    "plt.bar(*train_distribution)\n",
    "plt.title(\"Distribution of the train dataset after augmentation\")\n",
    "plt.xlabel(\"Class number\")\n",
    "plt.ylabel(\"Number of images\")\n",
    "plt.show()"
   ]
  },
  {
   "cell_type": "markdown",
   "metadata": {},
   "source": [
    "### Model Architecture"
   ]
  },
  {
   "cell_type": "code",
   "execution_count": 11,
   "metadata": {
    "collapsed": true
   },
   "outputs": [],
   "source": [
    "#The base class for the model\n",
    "from tensorflow.contrib.layers import flatten\n",
    "class SignClassifier:\n",
    "    def __init__(self,name):\n",
    "        self.name = name\n",
    "        #input data\n",
    "        self.x = tf.placeholder(tf.float32, (None, 32, 32, 1),name='x')\n",
    "        #input label\n",
    "        self.y = tf.placeholder(tf.int32, (None), name='y')\n",
    "        self.one_hot_y = tf.one_hot(self.y, n_classes)\n",
    "        \n",
    "        self.is_training = tf.placeholder(tf.bool, name='is_training') \n",
    "        self.keep_prob = tf.placeholder(tf.float32, name='keep_prob')\n",
    "        self.lr = 0.0001\n",
    "        self.epochs = 20\n",
    "        self.batch_size = 128\n",
    "        self.mu = 0\n",
    "        self.sigma = 0.1\n",
    "        self.layer_cnt = 0\n",
    "        self.save_file =  './'+self.name+'.ckpt'\n",
    "        self.training_accuracy_epochs =[]\n",
    "        self.validation_accuracy_epochs =[]\n",
    "        \n",
    "    def model(self):\n",
    "        #abstract method. Implemented in derived classes for different model architectore\n",
    "        #return logits of input data\n",
    "        pass\n",
    "    def build(self):   \n",
    "        #build the model and trainning pipeline\n",
    "        \n",
    "        self.logits = self.model()\n",
    "        self.cross_entropy = tf.nn.softmax_cross_entropy_with_logits(labels=self.one_hot_y, logits=self.logits)\n",
    "        self.loss = tf.reduce_mean(self.cross_entropy)\n",
    "        self.optimizer = tf.train.AdamOptimizer(self.lr)\n",
    "        self.training_operation = self.optimizer.minimize(self.loss)\n",
    "        self.correct_prediction = tf.equal(tf.argmax(self.logits, 1), tf.argmax(self.one_hot_y, 1))\n",
    "        self.accuracy_operation = tf.reduce_mean(tf.cast(self.correct_prediction, tf.float32))\n",
    "\n",
    "    def evaluate(self, x, y):\n",
    "        num_examples = len(x)\n",
    "        total_accuracy = 0\n",
    "        sess = tf.get_default_session()\n",
    "        for offset in range(0, num_examples, self.batch_size):\n",
    "            batch_x, batch_y = x[offset:offset+self.batch_size], y[offset:offset+self.batch_size]\n",
    "            accuracy = sess.run(self.accuracy_operation, \n",
    "                                feed_dict={self.x: batch_x, self.y: batch_y, self.is_training:False, self.keep_prob:1.0}\n",
    "                               )\n",
    "            total_accuracy += (accuracy * len(batch_x))\n",
    "        return total_accuracy / num_examples\n",
    "    def set_training_param(self, epochs=20, batch_size=128, lr=0.001):\n",
    "        self.epochs = epochs\n",
    "        self.batch_size = batch_size\n",
    "        #learning rate\n",
    "        self.lr = lr\n",
    "    def load(self, sess=None, load_model=False):\n",
    "        if load_model:\n",
    "            #self.saver = tf.train.import_meta_graph('./'+self.name+'.meta')\n",
    "            self.saver = tf.train.import_meta_graph(self.save_file+'.meta')\n",
    "        if sess is None:\n",
    "            sess = tf.get_default_session()\n",
    "        #self.saver.restore(sess, tf.train.latest_checkpoint(self.save_path))\n",
    "        #self.saver.restore(sess, tf.train.latest_checkpoint('.'))\n",
    "        #self.saver.restore(sess, './'+self.name+'.ckpt')\n",
    "        self.saver.restore(sess, self.save_file)\n",
    "        print (\"Model Loaded:\", self.save_file)\n",
    "    def train(self,x_train, y_train, x_valid, y_valid, x_test=None, y_test=None, load_saved=False, keep_prob=0.5):\n",
    "        with tf.Session() as sess:\n",
    "            if load_saved:\n",
    "                self.load(sess)\n",
    "            else:\n",
    "                sess.run(tf.global_variables_initializer())\n",
    "                self.saver = tf.train.Saver()\n",
    "            num_examples = len(x_train)\n",
    "    \n",
    "            for i in range(self.epochs):\n",
    "                x_train, y_train = shuffle(x_train, y_train)\n",
    "                training_accuracy = 0.0\n",
    "                for offset in range(0, num_examples, self.batch_size):\n",
    "                    end = offset + self.batch_size\n",
    "                    batch_x, batch_y = x_train[offset:end], y_train[offset:end]\n",
    "                    feed_dict = {self.x: batch_x, self.y: batch_y,self.is_training: True, self.keep_prob:keep_prob}\n",
    "                    _, training_accuracy = sess.run((self.training_operation, self.accuracy_operation), \n",
    "                                                     feed_dict=feed_dict)\n",
    "            \n",
    "                print(\"EPOCH {} ...\".format(i+1))\n",
    "                print(\"Trainning Accuracy = {:.3f}\".format(training_accuracy))\n",
    "                validation_accuracy = self.evaluate(x_valid, y_valid)\n",
    "                print(\"Validation Accuracy = {:.3f}\".format(validation_accuracy))\n",
    "                self.training_accuracy_epochs.append(training_accuracy)\n",
    "                self.validation_accuracy_epochs.append(validation_accuracy)\n",
    "            self.save_path = self.saver.save(sess, self.save_file) \n",
    "            print(\"Model saved:\",self.save_file)\n",
    "            \n",
    "            if x_test is not None and y_test is not None:\n",
    "                test_accuracy = self.evaluate(x_valid, y_valid)\n",
    "                print(\"Test Accuracy = {:.3f}\".format(test_accuracy))\n",
    "                \n",
    "    def test(self, x, y):\n",
    "        with tf.Session() as sess:\n",
    "            #self.saver.restore(sess, tf.train.latest_checkpoint('.'))\n",
    "            self.saver.restore(sess, self.save_file)\n",
    "            test_accuracy = self.evaluate(x, y)\n",
    "            print(\"Test Accuracy = {:.3f}\".format(test_accuracy))\n",
    "            \n",
    "    def conv2d(self, x, shape, padding='SAME'):\n",
    "        weights = tf.Variable(tf.truncated_normal(shape=shape, mean = self.mu, stddev = self.sigma),\n",
    "                                                  name='conv2d_w_'+str(self.layer_cnt))\n",
    "        bias = tf.Variable(tf.zeros(shape[-1]), name = 'conv2d_b_'+str(self.layer_cnt))\n",
    "        y = tf.nn.conv2d(x, weights, strides=[1, 1, 1, 1], padding=padding)\n",
    "        y = tf.nn.bias_add(y, bias)\n",
    "        self.layer_cnt += 1                      \n",
    "        return y\n",
    "    \n",
    "    def conv2d_relu(self, x, shape, padding='SAME'):\n",
    "        return tf.nn.relu(self.conv2d(x,shape,padding),name='conv2d_act_'+str(self.layer_cnt-1))\n",
    "        #return tf.nn.relu(self.conv2d(x,shape,padding))\n",
    "    \n",
    "    def maxpool2d(self, x, k=2, s=None, padding='SAME'):\n",
    "        if s is None:\n",
    "            s = k\n",
    "        return tf.nn.max_pool(x, ksize = [1, k, k, 1], strides = [1, s, s, 1], padding=padding)\n",
    "    \n",
    "    def fc(self, x, shape):\n",
    "        weights = tf.Variable(tf.truncated_normal(shape=shape, mean = self.mu, stddev = self.sigma),\n",
    "                             name = 'fc_w_'+str(self.layer_cnt))\n",
    "        bias = tf.Variable(tf.zeros(shape[-1]), name='fc_b_'+str(self.layer_cnt))\n",
    "        l   = tf.nn.bias_add(tf.matmul(x, weights), bias)\n",
    "        self.layer_cnt += 1\n",
    "        return l\n",
    "        \n",
    "    def fc_relu(self, x, shape):\n",
    "        return tf.nn.relu(self.fc(x, shape),name='fc_act_'+str(self.layer_cnt -1))\n",
    "        #return tf.nn.relu(self.fc(x, shape))\n",
    "        \n",
    "    def batch_norm(self, x, is_training, decay=0.9, eps=1e-5):\n",
    "        \"\"\"Batch Normalization\n",
    "           Args:\n",
    "               x: input data\n",
    "               is_training: when you test, please set is_training \"None\"\n",
    "           Returns:\n",
    "               output for next layer\n",
    "        \"\"\"\n",
    "        shape = x.get_shape()[1:] \n",
    "        \n",
    "        gamma = tf.Variable(tf.ones(shape), name=\"gamma\")\n",
    "        beta = tf.Variable(tf.zeros(shape), name=\"beta\")\n",
    "        pop_mean = tf.Variable(tf.zeros(shape), trainable=False, name=\"pop_mean\")\n",
    "        pop_var = tf.Variable(tf.ones(shape), trainable=False, name=\"pop_var\")\n",
    "\n",
    "        if is_training != None:\n",
    "            batch_mean, batch_var = tf.nn.moments(x, [0])\n",
    "            train_mean = tf.assign(pop_mean, pop_mean * decay + batch_mean*(1 - decay))\n",
    "            train_var = tf.assign(pop_var, pop_var * decay + batch_var * (1 - decay))\n",
    "            with tf.control_dependencies([train_mean, train_var]):\n",
    "                return tf.nn.batch_normalization(x, batch_mean, batch_var, beta, gamma, eps)\n",
    "        else:\n",
    "            return tf.nn.batch_normalization(x, pop_mean, pop_var, beta, gamma, eps)"
   ]
  },
  {
   "cell_type": "raw",
   "metadata": {},
   "source": [
    "class IntNet(SignClassifier):\n",
    "    def __init__(self, name):\n",
    "        super().__init__(name)\n",
    "    def model(self):\n",
    "        depth_1 = 64\n",
    "        depth_2 = 128\n",
    "        \n",
    "        def inception_module(x, in_d, out_d):\n",
    "            d_1x1 = 32\n",
    "            conv1x1 = self.conv2d(x, (1, 1, in_d, out_d))\n",
    "            conv2 = self.conv2d_relu(x, (1, 1, in_d, d_1x1))\n",
    "            conv3 = self.conv2d_relu(x, (1, 1, in_d, d_1x1))\n",
    "            maxpool = self.maxpool2d(x, 3, 1)\n",
    "            conv_maxpool = self.conv2d(maxpool, (1, 1, in_d, out_d))\n",
    "            conv3x3 = self.conv2d(conv2, (3, 3, d_1x1, int(out_d/2)))\n",
    "            conv3x3 = self.conv2d(conv3x3, (1, 1, int(out_d/2), out_d))\n",
    "            conv5x5 = self.conv2d(conv3, (5, 5, d_1x1, int(out_d/2)))\n",
    "            conv5x5 = self.conv2d(conv5x5, (1, 1, int(out_d/2), out_d))\n",
    "            if tf.__version__ == '1.0.1':\n",
    "                return tf.nn.relu(tf.concat([conv1x1, conv3x3, conv5x5, conv_maxpool],3))\n",
    "            else:\n",
    "                return tf.nn.relu(tf.concat(3,[conv1x1, conv3x3, conv5x5, conv_maxpool]))\n",
    "            \n",
    "        def Net(x):    \n",
    "            conv1 = self.conv2d_relu(x, (1, 1, 1, 1)) \n",
    "            self.conv2 = self.conv2d_relu(conv1, (5, 5, 1, depth_1)) \n",
    "            #conv2 = tf.nn.dropout(self.conv2, self.keep_prob)     \n",
    "            self.incept1 = inception_module(self.conv2, 64, depth_1) \n",
    "            maxpool1 = self.maxpool2d(self.incept1, 2, 2,'VALID') \n",
    "            #conv2 = tf.nn.dropout(self.conv2, self.keep_prob)     \n",
    "            incept2 = inception_module(maxpool1, depth_1*4, depth_2) \n",
    "            maxpool2 = self.maxpool2d(incept2, 3, 2, 'VALID') \n",
    "            self.conv3 = self.conv2d(maxpool2, (1, 1, 512, 256)) \n",
    "            fc = flatten(self.conv3)\n",
    "            fc = self.fc_relu(fc, (256*7*7, 512))\n",
    "            fc = tf.nn.dropout(fc, self.keep_prob)     \n",
    "            self.logits = self.fc(fc, (512,n_classes))                    \n",
    "            return self.logits\n",
    "        return Net(self.x)"
   ]
  },
  {
   "cell_type": "code",
   "execution_count": 12,
   "metadata": {
    "collapsed": true
   },
   "outputs": [],
   "source": [
    "class IntNet(SignClassifier):\n",
    "    def __init__(self, name):\n",
    "        super().__init__(name)\n",
    "    def model(self):\n",
    "        \n",
    "        def inception_module(x, in_d, d_out):\n",
    "            d_1x1 = 32\n",
    "            conv1x1 = self.conv2d(x, (1, 1, in_d, d_out))\n",
    "            conv2 = self.conv2d_relu(x, (1, 1, in_d, d_1x1))\n",
    "            conv3 = self.conv2d_relu(x, (1, 1, in_d, d_1x1))\n",
    "            maxpool = self.maxpool2d(x, 3, 1)\n",
    "            conv_maxpool = self.conv2d(maxpool, (1, 1, in_d, d_out))\n",
    "            conv3x3 = self.conv2d_relu(conv2, (3, 3, d_1x1, d_out//2))\n",
    "            conv3x3 = self.conv2d(conv3x3, (1, 1, d_out//2, d_out))\n",
    "            conv5x5 = self.conv2d_relu(conv3, (5, 5, d_1x1, d_out//2))\n",
    "            conv5x5 = self.conv2d(conv5x5, (1, 1, d_out//2, d_out))\n",
    "            if tf.__version__ == '1.0.1':\n",
    "                return tf.nn.relu(tf.concat([conv1x1, conv3x3, conv5x5, conv_maxpool],3))\n",
    "            else:\n",
    "                return tf.nn.relu(tf.concat(3,[conv1x1, conv3x3, conv5x5, conv_maxpool]))\n",
    "            \n",
    "        def Net(x):    \n",
    "            depth_1 = 64\n",
    "            depth_2 = 128\n",
    "            depth_3 = 256 \n",
    "            depth_4 = 512 \n",
    "            conv1 = self.conv2d_relu(x, (1, 1, 1, 1)) \n",
    "            self.conv2 = self.conv2d_relu(conv1, (5, 5, 1, depth_1)) \n",
    "            #conv2 = tf.nn.dropout(self.conv2, self.keep_prob)     \n",
    "            self.incept1 = inception_module(self.conv2, depth_1, depth_1) \n",
    "            maxpool1 = self.maxpool2d(self.incept1, 2, 2,'VALID') \n",
    "            #conv2 = tf.nn.dropout(self.conv2, self.keep_prob)     \n",
    "            self.incept2 = inception_module(maxpool1, int((maxpool1.shape)[3]), depth_2) \n",
    "            maxpool2 = self.maxpool2d(self.incept2, 3, 2, 'VALID') \n",
    "            self.conv3 = self.conv2d_relu(maxpool2, (1, 1, int((maxpool2.shape)[3]), depth_3)) \n",
    "            conv3 = tf.nn.dropout(self.conv3, self.keep_prob)     \n",
    "            fc = flatten(conv3)\n",
    "            d_in = int(fc.shape[1])\n",
    "            self.fc1 = self.fc_relu(fc, (d_in, depth_4))\n",
    "            fc = tf.nn.dropout(self.fc1, self.keep_prob)     \n",
    "            self.logits = self.fc(fc, (depth_4,n_classes))                    \n",
    "            return self.logits\n",
    "        return Net(self.x)"
   ]
  },
  {
   "cell_type": "code",
   "execution_count": 13,
   "metadata": {
    "scrolled": true
   },
   "outputs": [
    {
     "name": "stdout",
     "output_type": "stream",
     "text": [
      "EPOCH 1 ...\n",
      "Trainning Accuracy = 0.250\n",
      "Validation Accuracy = 0.401\n",
      "EPOCH 2 ...\n",
      "Trainning Accuracy = 0.500\n",
      "Validation Accuracy = 0.650\n"
     ]
    },
    {
     "ename": "KeyboardInterrupt",
     "evalue": "",
     "output_type": "error",
     "traceback": [
      "\u001b[0;31m---------------------------------------------------------------------------\u001b[0m",
      "\u001b[0;31mKeyboardInterrupt\u001b[0m                         Traceback (most recent call last)",
      "\u001b[0;32m<ipython-input-13-b19a58d14308>\u001b[0m in \u001b[0;36m<module>\u001b[0;34m()\u001b[0m\n\u001b[1;32m      4\u001b[0m \u001b[0mmodel\u001b[0m\u001b[0;34m.\u001b[0m\u001b[0mset_training_param\u001b[0m\u001b[0;34m(\u001b[0m\u001b[0mepochs\u001b[0m\u001b[0;34m=\u001b[0m\u001b[0;36m10\u001b[0m\u001b[0;34m,\u001b[0m\u001b[0mlr\u001b[0m\u001b[0;34m=\u001b[0m\u001b[0;36m0.0008\u001b[0m\u001b[0;34m)\u001b[0m\u001b[0;34m\u001b[0m\u001b[0m\n\u001b[1;32m      5\u001b[0m \u001b[0;31m#model.train(X_train, y_train, X_valid, y_valid,X_test, y_test)\u001b[0m\u001b[0;34m\u001b[0m\u001b[0;34m\u001b[0m\u001b[0m\n\u001b[0;32m----> 6\u001b[0;31m \u001b[0mmodel\u001b[0m\u001b[0;34m.\u001b[0m\u001b[0mtrain\u001b[0m\u001b[0;34m(\u001b[0m\u001b[0mX_train\u001b[0m\u001b[0;34m,\u001b[0m \u001b[0my_train\u001b[0m\u001b[0;34m,\u001b[0m \u001b[0mX_valid\u001b[0m\u001b[0;34m,\u001b[0m \u001b[0my_valid\u001b[0m\u001b[0;34m)\u001b[0m\u001b[0;34m\u001b[0m\u001b[0m\n\u001b[0m",
      "\u001b[0;32m<ipython-input-11-e588eb91bb6c>\u001b[0m in \u001b[0;36mtrain\u001b[0;34m(self, x_train, y_train, x_valid, y_valid, x_test, y_test, load_saved, keep_prob)\u001b[0m\n\u001b[1;32m     81\u001b[0m                     \u001b[0mfeed_dict\u001b[0m \u001b[0;34m=\u001b[0m \u001b[0;34m{\u001b[0m\u001b[0mself\u001b[0m\u001b[0;34m.\u001b[0m\u001b[0mx\u001b[0m\u001b[0;34m:\u001b[0m \u001b[0mbatch_x\u001b[0m\u001b[0;34m,\u001b[0m \u001b[0mself\u001b[0m\u001b[0;34m.\u001b[0m\u001b[0my\u001b[0m\u001b[0;34m:\u001b[0m \u001b[0mbatch_y\u001b[0m\u001b[0;34m,\u001b[0m\u001b[0mself\u001b[0m\u001b[0;34m.\u001b[0m\u001b[0mis_training\u001b[0m\u001b[0;34m:\u001b[0m \u001b[0;32mTrue\u001b[0m\u001b[0;34m,\u001b[0m \u001b[0mself\u001b[0m\u001b[0;34m.\u001b[0m\u001b[0mkeep_prob\u001b[0m\u001b[0;34m:\u001b[0m\u001b[0mkeep_prob\u001b[0m\u001b[0;34m}\u001b[0m\u001b[0;34m\u001b[0m\u001b[0m\n\u001b[1;32m     82\u001b[0m                     _, training_accuracy = sess.run((self.training_operation, self.accuracy_operation), \n\u001b[0;32m---> 83\u001b[0;31m                                                      feed_dict=feed_dict)\n\u001b[0m\u001b[1;32m     84\u001b[0m \u001b[0;34m\u001b[0m\u001b[0m\n\u001b[1;32m     85\u001b[0m                 \u001b[0mprint\u001b[0m\u001b[0;34m(\u001b[0m\u001b[0;34m\"EPOCH {} ...\"\u001b[0m\u001b[0;34m.\u001b[0m\u001b[0mformat\u001b[0m\u001b[0;34m(\u001b[0m\u001b[0mi\u001b[0m\u001b[0;34m+\u001b[0m\u001b[0;36m1\u001b[0m\u001b[0;34m)\u001b[0m\u001b[0;34m)\u001b[0m\u001b[0;34m\u001b[0m\u001b[0m\n",
      "\u001b[0;32m~/miniconda3/envs/carnd-term1/lib/python3.5/site-packages/tensorflow/python/client/session.py\u001b[0m in \u001b[0;36mrun\u001b[0;34m(self, fetches, feed_dict, options, run_metadata)\u001b[0m\n\u001b[1;32m    765\u001b[0m     \u001b[0;32mtry\u001b[0m\u001b[0;34m:\u001b[0m\u001b[0;34m\u001b[0m\u001b[0m\n\u001b[1;32m    766\u001b[0m       result = self._run(None, fetches, feed_dict, options_ptr,\n\u001b[0;32m--> 767\u001b[0;31m                          run_metadata_ptr)\n\u001b[0m\u001b[1;32m    768\u001b[0m       \u001b[0;32mif\u001b[0m \u001b[0mrun_metadata\u001b[0m\u001b[0;34m:\u001b[0m\u001b[0;34m\u001b[0m\u001b[0m\n\u001b[1;32m    769\u001b[0m         \u001b[0mproto_data\u001b[0m \u001b[0;34m=\u001b[0m \u001b[0mtf_session\u001b[0m\u001b[0;34m.\u001b[0m\u001b[0mTF_GetBuffer\u001b[0m\u001b[0;34m(\u001b[0m\u001b[0mrun_metadata_ptr\u001b[0m\u001b[0;34m)\u001b[0m\u001b[0;34m\u001b[0m\u001b[0m\n",
      "\u001b[0;32m~/miniconda3/envs/carnd-term1/lib/python3.5/site-packages/tensorflow/python/client/session.py\u001b[0m in \u001b[0;36m_run\u001b[0;34m(self, handle, fetches, feed_dict, options, run_metadata)\u001b[0m\n\u001b[1;32m    963\u001b[0m     \u001b[0;32mif\u001b[0m \u001b[0mfinal_fetches\u001b[0m \u001b[0;32mor\u001b[0m \u001b[0mfinal_targets\u001b[0m\u001b[0;34m:\u001b[0m\u001b[0;34m\u001b[0m\u001b[0m\n\u001b[1;32m    964\u001b[0m       results = self._do_run(handle, final_targets, final_fetches,\n\u001b[0;32m--> 965\u001b[0;31m                              feed_dict_string, options, run_metadata)\n\u001b[0m\u001b[1;32m    966\u001b[0m     \u001b[0;32melse\u001b[0m\u001b[0;34m:\u001b[0m\u001b[0;34m\u001b[0m\u001b[0m\n\u001b[1;32m    967\u001b[0m       \u001b[0mresults\u001b[0m \u001b[0;34m=\u001b[0m \u001b[0;34m[\u001b[0m\u001b[0;34m]\u001b[0m\u001b[0;34m\u001b[0m\u001b[0m\n",
      "\u001b[0;32m~/miniconda3/envs/carnd-term1/lib/python3.5/site-packages/tensorflow/python/client/session.py\u001b[0m in \u001b[0;36m_do_run\u001b[0;34m(self, handle, target_list, fetch_list, feed_dict, options, run_metadata)\u001b[0m\n\u001b[1;32m   1013\u001b[0m     \u001b[0;32mif\u001b[0m \u001b[0mhandle\u001b[0m \u001b[0;32mis\u001b[0m \u001b[0;32mNone\u001b[0m\u001b[0;34m:\u001b[0m\u001b[0;34m\u001b[0m\u001b[0m\n\u001b[1;32m   1014\u001b[0m       return self._do_call(_run_fn, self._session, feed_dict, fetch_list,\n\u001b[0;32m-> 1015\u001b[0;31m                            target_list, options, run_metadata)\n\u001b[0m\u001b[1;32m   1016\u001b[0m     \u001b[0;32melse\u001b[0m\u001b[0;34m:\u001b[0m\u001b[0;34m\u001b[0m\u001b[0m\n\u001b[1;32m   1017\u001b[0m       return self._do_call(_prun_fn, self._session, handle, feed_dict,\n",
      "\u001b[0;32m~/miniconda3/envs/carnd-term1/lib/python3.5/site-packages/tensorflow/python/client/session.py\u001b[0m in \u001b[0;36m_do_call\u001b[0;34m(self, fn, *args)\u001b[0m\n\u001b[1;32m   1020\u001b[0m   \u001b[0;32mdef\u001b[0m \u001b[0m_do_call\u001b[0m\u001b[0;34m(\u001b[0m\u001b[0mself\u001b[0m\u001b[0;34m,\u001b[0m \u001b[0mfn\u001b[0m\u001b[0;34m,\u001b[0m \u001b[0;34m*\u001b[0m\u001b[0margs\u001b[0m\u001b[0;34m)\u001b[0m\u001b[0;34m:\u001b[0m\u001b[0;34m\u001b[0m\u001b[0m\n\u001b[1;32m   1021\u001b[0m     \u001b[0;32mtry\u001b[0m\u001b[0;34m:\u001b[0m\u001b[0;34m\u001b[0m\u001b[0m\n\u001b[0;32m-> 1022\u001b[0;31m       \u001b[0;32mreturn\u001b[0m \u001b[0mfn\u001b[0m\u001b[0;34m(\u001b[0m\u001b[0;34m*\u001b[0m\u001b[0margs\u001b[0m\u001b[0;34m)\u001b[0m\u001b[0;34m\u001b[0m\u001b[0m\n\u001b[0m\u001b[1;32m   1023\u001b[0m     \u001b[0;32mexcept\u001b[0m \u001b[0merrors\u001b[0m\u001b[0;34m.\u001b[0m\u001b[0mOpError\u001b[0m \u001b[0;32mas\u001b[0m \u001b[0me\u001b[0m\u001b[0;34m:\u001b[0m\u001b[0;34m\u001b[0m\u001b[0m\n\u001b[1;32m   1024\u001b[0m       \u001b[0mmessage\u001b[0m \u001b[0;34m=\u001b[0m \u001b[0mcompat\u001b[0m\u001b[0;34m.\u001b[0m\u001b[0mas_text\u001b[0m\u001b[0;34m(\u001b[0m\u001b[0me\u001b[0m\u001b[0;34m.\u001b[0m\u001b[0mmessage\u001b[0m\u001b[0;34m)\u001b[0m\u001b[0;34m\u001b[0m\u001b[0m\n",
      "\u001b[0;32m~/miniconda3/envs/carnd-term1/lib/python3.5/site-packages/tensorflow/python/client/session.py\u001b[0m in \u001b[0;36m_run_fn\u001b[0;34m(session, feed_dict, fetch_list, target_list, options, run_metadata)\u001b[0m\n\u001b[1;32m   1002\u001b[0m         return tf_session.TF_Run(session, options,\n\u001b[1;32m   1003\u001b[0m                                  \u001b[0mfeed_dict\u001b[0m\u001b[0;34m,\u001b[0m \u001b[0mfetch_list\u001b[0m\u001b[0;34m,\u001b[0m \u001b[0mtarget_list\u001b[0m\u001b[0;34m,\u001b[0m\u001b[0;34m\u001b[0m\u001b[0m\n\u001b[0;32m-> 1004\u001b[0;31m                                  status, run_metadata)\n\u001b[0m\u001b[1;32m   1005\u001b[0m \u001b[0;34m\u001b[0m\u001b[0m\n\u001b[1;32m   1006\u001b[0m     \u001b[0;32mdef\u001b[0m \u001b[0m_prun_fn\u001b[0m\u001b[0;34m(\u001b[0m\u001b[0msession\u001b[0m\u001b[0;34m,\u001b[0m \u001b[0mhandle\u001b[0m\u001b[0;34m,\u001b[0m \u001b[0mfeed_dict\u001b[0m\u001b[0;34m,\u001b[0m \u001b[0mfetch_list\u001b[0m\u001b[0;34m)\u001b[0m\u001b[0;34m:\u001b[0m\u001b[0;34m\u001b[0m\u001b[0m\n",
      "\u001b[0;31mKeyboardInterrupt\u001b[0m: "
     ]
    }
   ],
   "source": [
    "#Trainning settings\n",
    "model = IntNet(\"IntNet\")\n",
    "model.build()\n",
    "model.set_training_param(epochs=10,lr=0.0008)\n",
    "#model.train(X_train, y_train, X_valid, y_valid,X_test, y_test)\n",
    "model.train(X_train, y_train, X_valid, y_valid)"
   ]
  },
  {
   "cell_type": "code",
   "execution_count": null,
   "metadata": {},
   "outputs": [],
   "source": [
    "model.set_training_param(epochs=5)\n",
    "#model.train(X_train, y_train, X_valid, y_valid,X_test, y_test, True)\n",
    "model.train(X_train, y_train, X_valid, y_valid, load_saved=True)"
   ]
  },
  {
   "cell_type": "code",
   "execution_count": null,
   "metadata": {},
   "outputs": [],
   "source": [
    "model.set_training_param(epochs=5)\n",
    "#model.train(X_train, y_train, X_valid, y_valid,X_test, y_test, True)\n",
    "model.train(X_train, y_train, X_valid, y_valid, load_saved=True)"
   ]
  },
  {
   "cell_type": "code",
   "execution_count": null,
   "metadata": {},
   "outputs": [],
   "source": [
    "model.test(X_test, y_test)"
   ]
  },
  {
   "cell_type": "raw",
   "metadata": {
    "collapsed": true
   },
   "source": [
    "class LeNet(SignClassifier):\n",
    "    def __init__(self, name):\n",
    "        super().__init__(name)\n",
    "    def model(self):\n",
    "        mu = 0\n",
    "        sigma = 0.1\n",
    "       \n",
    "        #input shape(32,32,1)\n",
    "        #Layer1. Output:(26,26,6)\n",
    "        layer = self.conv2d(self.x, (5,5,1,6))\n",
    "        \n",
    "        # Pooling (28,28,6) -> (14,14,6)\n",
    "        layer = self.maxpool2d(layer)\n",
    "    \n",
    "        # Layer 2: Output: (10,10,16)\n",
    "        layer = self.conv2d(layer, (5,5,6,16))\n",
    "    \n",
    "        # Pooling. (10,10,16)-> (5,5,16)\n",
    "        layer = self.maxpool2d(layer)\n",
    "    \n",
    "        # Flatten. (5,5,16)-> (400)\n",
    "        layer   = flatten(layer)\n",
    "        \n",
    "        layer = self.fc(layer, (400,120))\n",
    "        layer = tf.nn.dropout(layer, self.keep_prob)\n",
    "        \n",
    "        #Layer 4: FC. (120) -> (84)\n",
    "        layer = self.fc(layer, (120, 84))\n",
    "        layer = tf.nn.dropout(layer, self.keep_prob)\n",
    "    \n",
    "        # Layer 5: FC (84)->(n_classes)\n",
    "        logits = self.fc(layer, (84, n_classes))\n",
    "        \n",
    "        return logits\n",
    "        \n",
    "        \n",
    "    "
   ]
  },
  {
   "cell_type": "markdown",
   "metadata": {},
   "source": [
    "### Train, Validate and Test the Model"
   ]
  },
  {
   "cell_type": "markdown",
   "metadata": {},
   "source": [
    "A validation set can be used to assess how well the model is performing. A low accuracy on the training and validation\n",
    "sets imply underfitting. A high accuracy on the training set but low accuracy on the validation set implies overfitting."
   ]
  },
  {
   "cell_type": "code",
   "execution_count": null,
   "metadata": {
    "collapsed": true
   },
   "outputs": [],
   "source": [
    "### Train your model here.\n",
    "### Calculate and report the accuracy on the training and validation set.\n",
    "### Once a final model architecture is selected, \n",
    "### the accuracy on the test set should be calculated and reported as well.\n",
    "### Feel free to use as many code cells as needed."
   ]
  },
  {
   "cell_type": "raw",
   "metadata": {
    "collapsed": true
   },
   "source": [
    "#Trainning settings\n",
    "model_lenet = LeNet(\"LeNet\")\n",
    "model_lenet.build()\n",
    "model_lenet.set_training_param(epochs=30,lr=0.0008)\n",
    "model_lenet.train(X_train, y_train, X_valid, y_valid)"
   ]
  },
  {
   "cell_type": "raw",
   "metadata": {
    "collapsed": true
   },
   "source": [
    "model_lenet.train(X_train, y_train, X_valid, y_valid,load_saved=True)"
   ]
  },
  {
   "cell_type": "raw",
   "metadata": {
    "collapsed": true
   },
   "source": [
    "saver = tf.train.Saver()\n",
    "with tf.Session() as sess:\n",
    "    saver.restore(sess, tf.train.latest_checkpoint('.'))\n",
    "\n",
    "    #train_accuracy = evaluate(X_train, y_train)\n",
    "    #print(\"Train Accuracy = {:.3f}\".format(train_accuracy))\n",
    "    \n",
    "    #valid_accuracy = evaluate(X_valid, y_valid)\n",
    "    #print(\"Valid Accuracy = {:.3f}\".format(valid_accuracy))    \n",
    "    \n",
    "    test_accuracy = model_lenet.evaluate(X_test, y_test)\n",
    "    print(\"Test Accuracy = {:.3f}\".format(test_accuracy))"
   ]
  },
  {
   "cell_type": "code",
   "execution_count": 21,
   "metadata": {
    "collapsed": true
   },
   "outputs": [],
   "source": [
    "class MSNet(SignClassifier):\n",
    "    def __init__(self, name):\n",
    "        super().__init__(name)\n",
    "        #self.is_training = tf.placeholder(tf.bool, name='is_training') \n",
    "    def model(self):\n",
    "        #32x32->16x16\n",
    "        conv1 = self.conv2d_relu(self.x, (5,5,1,16),'SAME')\n",
    "        conv1 = self.maxpool2d(conv1,padding='SAME')\n",
    "        #16x16->8x8\n",
    "        conv2 = self.conv2d_relu(conv1,  (5,5,16,64),'SAME')\n",
    "        conv2 = self.maxpool2d(conv2, padding='SAME')\n",
    "        \n",
    "        conv3 = self.conv2d_relu(conv2,  (3,3,64,256),'SAME')\n",
    "        conv3 = self.maxpool2d(conv2, padding='SAME')\n",
    "       \n",
    "        if tf.__version__ != '1.0.1':\n",
    "            fc_in = tf.concat(1,[flatten(conv2), flatten(conv3)])\n",
    "        else:    \n",
    "            fc_in = tf.concat([flatten(conv2), flatten(conv3)], 1)\n",
    "            \n",
    "        size = fc_in.shape[1]\n",
    "        size = 5120\n",
    "        #size = 16*16*6 + 8*8*16\n",
    "        fully = self.fc_relu(fc_in, (size, 300))\n",
    "        fully = tf.nn.dropout(fully, self.keep_prob)\n",
    "        logits = self.fc(fully, (300,n_classes))\n",
    "        \n",
    "        return logits"
   ]
  },
  {
   "cell_type": "code",
   "execution_count": 22,
   "metadata": {},
   "outputs": [
    {
     "name": "stdout",
     "output_type": "stream",
     "text": [
      "EPOCH 1 ...\n",
      "Trainning Accuracy = 0.375\n",
      "Validation Accuracy = 0.480\n",
      "Model saved: ./MSNet.ckpt\n",
      "Test Accuracy = 0.480\n"
     ]
    }
   ],
   "source": [
    "#Trainning settings\n",
    "EPOCHS = 10\n",
    "BATCH_SIZE = 128\n",
    "rate = 0.001\n",
    "model_ms = MSNet(\"MSNet\")\n",
    "model_ms.build()\n",
    "model_ms.set_training_param(epochs=1,lr=0.0008)\n",
    "model_ms.train(X_train, y_train, X_valid, y_valid,X_test, y_test)"
   ]
  },
  {
   "cell_type": "markdown",
   "metadata": {},
   "source": [
    "---\n",
    "\n",
    "## Step 3: Test a Model on New Images\n",
    "\n",
    "To give yourself more insight into how your model is working, download at least five pictures of German traffic signs from the web and use your model to predict the traffic sign type.\n",
    "\n",
    "You may find `signnames.csv` useful as it contains mappings from the class id (integer) to the actual sign name."
   ]
  },
  {
   "cell_type": "markdown",
   "metadata": {},
   "source": [
    "### Load and Output the Images"
   ]
  },
  {
   "cell_type": "code",
   "execution_count": null,
   "metadata": {},
   "outputs": [],
   "source": [
    "### Load the images and plot them here.\n",
    "### Feel free to use as many code cells as needed.\n",
    "import glob\n",
    "import matplotlib.image as mpimg\n",
    "\n",
    "fig, axs = plt.subplots(3,4, figsize=(4, 3))\n",
    "fig.subplots_adjust(hspace = .2, wspace=.001)\n",
    "axs = axs.ravel()\n",
    "\n",
    "new_images_orig = []\n",
    "\n",
    "for i, img in enumerate(glob.glob('./mySigns/*.png')):\n",
    "    image = cv2.cvtColor(cv2.imread(img), cv2.COLOR_BGR2RGB)\n",
    "    axs[i].axis('off')\n",
    "    axs[i].imshow(image)\n",
    "    new_images_orig.append(image)\n",
    "\n",
    "new_images = np.asarray(new_images_orig)\n",
    "new_images = normalize(rgb2gray(eq_Hist(new_images)))\n",
    "\n",
    "print(new_images.shape)\n",
    "show_images(new_images)\n",
    "\n",
    "new_labels = [25, 1, 11, 34, \n",
    "              12, 25, 25, 38,\n",
    "              7,18,3]"
   ]
  },
  {
   "cell_type": "markdown",
   "metadata": {},
   "source": [
    "### Predict the Sign Type for Each Image"
   ]
  },
  {
   "cell_type": "code",
   "execution_count": null,
   "metadata": {
    "collapsed": true
   },
   "outputs": [],
   "source": [
    "### Run the predictions here and use the model to output the prediction for each image.\n",
    "### Make sure to pre-process the images with the same pre-processing pipeline used earlier.\n",
    "### Feel free to use as many code cells as needed."
   ]
  },
  {
   "cell_type": "code",
   "execution_count": null,
   "metadata": {},
   "outputs": [],
   "source": [
    "def test(x,y, model):\n",
    "    with tf.Session() as sess:\n",
    "        sess.run(tf.global_variables_initializer())\n",
    "        #saver = tf.train.import_meta_graph('./'+model.name+'.ckpt.meta')\n",
    "        #saver.restore(sess, './'+model.name+\".ckpt\")\n",
    "        saver = tf.train.import_meta_graph(model.save_file+'.meta')\n",
    "        saver.restore(sess, model.save_file)\n",
    "        accuracy = model.evaluate(x, y)\n",
    "        print(\"Test Set Accuracy = {:.3f}\".format(accuracy))\n",
    "test(new_images, new_labels, model)        "
   ]
  },
  {
   "cell_type": "markdown",
   "metadata": {},
   "source": [
    "### Analyze Performance"
   ]
  },
  {
   "cell_type": "code",
   "execution_count": null,
   "metadata": {
    "collapsed": true
   },
   "outputs": [],
   "source": [
    "### Calculate the accuracy for these 5 new images. \n",
    "### For example, if the model predicted 1 out of 5 signs correctly, it's 20% accurate on these new images.\n",
    "\n",
    "\n"
   ]
  },
  {
   "cell_type": "markdown",
   "metadata": {},
   "source": [
    "### Output Top 5 Softmax Probabilities For Each Image Found on the Web"
   ]
  },
  {
   "cell_type": "markdown",
   "metadata": {},
   "source": [
    "For each of the new images, print out the model's softmax probabilities to show the **certainty** of the model's predictions (limit the output to the top 5 probabilities for each image). [`tf.nn.top_k`](https://www.tensorflow.org/versions/r0.12/api_docs/python/nn.html#top_k) could prove helpful here. \n",
    "\n",
    "The example below demonstrates how tf.nn.top_k can be used to find the top k predictions for each image.\n",
    "\n",
    "`tf.nn.top_k` will return the values and indices (class ids) of the top k predictions. So if k=3, for each sign, it'll return the 3 largest probabilities (out of a possible 43) and the correspoding class ids.\n",
    "\n",
    "Take this numpy array as an example. The values in the array represent predictions. The array contains softmax probabilities for five candidate images with six possible classes. `tf.nn.top_k` is used to choose the three classes with the highest probability:\n",
    "\n",
    "```\n",
    "# (5, 6) array\n",
    "a = np.array([[ 0.24879643,  0.07032244,  0.12641572,  0.34763842,  0.07893497,\n",
    "         0.12789202],\n",
    "       [ 0.28086119,  0.27569815,  0.08594638,  0.0178669 ,  0.18063401,\n",
    "         0.15899337],\n",
    "       [ 0.26076848,  0.23664738,  0.08020603,  0.07001922,  0.1134371 ,\n",
    "         0.23892179],\n",
    "       [ 0.11943333,  0.29198961,  0.02605103,  0.26234032,  0.1351348 ,\n",
    "         0.16505091],\n",
    "       [ 0.09561176,  0.34396535,  0.0643941 ,  0.16240774,  0.24206137,\n",
    "         0.09155967]])\n",
    "```\n",
    "\n",
    "Running it through `sess.run(tf.nn.top_k(tf.constant(a), k=3))` produces:\n",
    "\n",
    "```\n",
    "TopKV2(values=array([[ 0.34763842,  0.24879643,  0.12789202],\n",
    "       [ 0.28086119,  0.27569815,  0.18063401],\n",
    "       [ 0.26076848,  0.23892179,  0.23664738],\n",
    "       [ 0.29198961,  0.26234032,  0.16505091],\n",
    "       [ 0.34396535,  0.24206137,  0.16240774]]), indices=array([[3, 0, 5],\n",
    "       [0, 1, 4],\n",
    "       [0, 5, 1],\n",
    "       [1, 3, 5],\n",
    "       [1, 4, 3]], dtype=int32))\n",
    "```\n",
    "\n",
    "Looking just at the first row we get `[ 0.34763842,  0.24879643,  0.12789202]`, you can confirm these are the 3 largest probabilities in `a`. You'll also notice `[3, 0, 5]` are the corresponding indices."
   ]
  },
  {
   "cell_type": "code",
   "execution_count": null,
   "metadata": {},
   "outputs": [],
   "source": [
    "### Print out the top five softmax probabilities for the predictions on the German traffic sign images found on the web. \n",
    "### Feel free to use as many code cells as needed.\n",
    "\n",
    "\n",
    "print(model.name)\n",
    "def get_top_k(x, model, k):\n",
    "    #softmax_logits = tf.nn.softmax(tf.nn.softmax(model.logits))\n",
    "    softmax_logits = tf.nn.softmax(model.logits)\n",
    "    top_k_op = tf.nn.top_k(softmax_logits, k=k)\n",
    "\n",
    "    with tf.Session() as sess:\n",
    "        sess.run(tf.global_variables_initializer())\n",
    "        saver = tf.train.import_meta_graph('./'+model.name+'.ckpt.meta')\n",
    "        saver.restore(sess, './'+model.name+'.ckpt')\n",
    "        #softmax_logits = sess.run(softmax_logits, feed_dict={model.x: new_images, model.keep_prob: 1.0})\n",
    "        top_k = sess.run(top_k_op, feed_dict={model.x: x, model.keep_prob: 1.0})\n",
    "        #print (top_5)\n",
    "    return top_k\n",
    "signs_top_5 = get_top_k(new_images, model, 5)"
   ]
  },
  {
   "cell_type": "code",
   "execution_count": null,
   "metadata": {},
   "outputs": [],
   "source": [
    "n_images = len(new_images_orig)\n",
    "plt.figure(figsize=(16, 21))\n",
    "for i in range(n_images):\n",
    "    plt.subplot(n_images, 2, 2*i+1)\n",
    "    plt.imshow(new_images_orig[i]) \n",
    "    plt.title(\"label:\"+sign_classes[new_labels[i]])\n",
    "    plt.axis('off')\n",
    "    plt.subplot(n_images, 2, 2*i+2)\n",
    "    plt.barh(np.arange(1, 6, 1), signs_top_5.values[i, :])\n",
    "    labs=[sign_classes[j] for j in signs_top_5.indices[i]]\n",
    "    plt.yticks(np.arange(1, 6, 1), labs)\n",
    "plt.show()"
   ]
  },
  {
   "cell_type": "code",
   "execution_count": null,
   "metadata": {
    "collapsed": true
   },
   "outputs": [],
   "source": [
    "### Visualize your network's feature maps here.\n",
    "### Feel free to use as many code cells as needed.\n",
    "\n",
    "# image_input: the test image being fed into the network to produce the feature maps\n",
    "# tf_activation: should be a tf variable name used during your training procedure that represents the calculated state of a specific weight layer\n",
    "# activation_min/max: can be used to view the activation contrast in more detail, by default matplot sets min and max to the actual min and max values of the output\n",
    "# plt_num: used to plot out multiple different weight feature map sets on the same block, just extend the plt number for each new feature map entry\n",
    "\n",
    "def outputFeatureMap(image_input, tf_activation, activation_min=-1, activation_max=-1 ,plt_num=1):\n",
    "    # Here make sure to preprocess your image_input in a way your network expects\n",
    "    # with size, normalization, ect if needed\n",
    "    # image_input =\n",
    "    # Note: x should be the same name as your network's tensorflow data placeholder variable\n",
    "    # If you get an error tf_activation is not defined it may be having trouble accessing the variable from inside a function\n",
    "    #activation = tf_activation.eval(session=sess,feed_dict={x : image_input})\n",
    "    activation = tf_activation.eval(session=sess,feed_dict={model.x : image_input})\n",
    "    featuremaps = activation.shape[3]\n",
    "    print (activation.shape, activation_min, activation_max)\n",
    "    plt.figure(plt_num, figsize=(15,15))\n",
    "    for featuremap in range(featuremaps):\n",
    "        plt.subplot(6,8, featuremap+1) # sets the number of feature maps to show on each row and column\n",
    "        plt.title('FeatureMap ' + str(featuremap)) # displays the feature map number\n",
    "        if activation_min != -1 & activation_max != -1:\n",
    "            plt.imshow(activation[0,:,:, featuremap], interpolation=\"nearest\", vmin =activation_min, vmax=activation_max, cmap=\"gray\")\n",
    "        elif activation_max != -1:\n",
    "            plt.imshow(activation[0,:,:, featuremap], interpolation=\"nearest\", vmax=activation_max, cmap=\"gray\")\n",
    "        elif activation_min !=-1:\n",
    "            plt.imshow(activation[0,:,:, featuremap], interpolation=\"nearest\", vmin=activation_min, cmap=\"gray\")\n",
    "        else:\n",
    "            plt.imshow(activation[0,:,:, featuremap], interpolation=\"nearest\", cmap=\"gray\")"
   ]
  },
  {
   "cell_type": "code",
   "execution_count": null,
   "metadata": {},
   "outputs": [],
   "source": [
    "with tf.Session() as sess:\n",
    "    sess.run(tf.global_variables_initializer())\n",
    "    saver = tf.train.import_meta_graph('./'+model.name+'.ckpt.meta')\n",
    "    saver.restore(sess, './'+model.name+'.ckpt')\n",
    "    outputFeatureMap(new_images[[0]], model.incept1)"
   ]
  },
  {
   "cell_type": "code",
   "execution_count": null,
   "metadata": {
    "collapsed": true
   },
   "outputs": [],
   "source": []
  }
 ],
 "metadata": {
  "anaconda-cloud": {},
  "kernelspec": {
   "display_name": "Python 3",
   "language": "python",
   "name": "python3"
  },
  "language_info": {
   "codemirror_mode": {
    "name": "ipython",
    "version": 3
   },
   "file_extension": ".py",
   "mimetype": "text/x-python",
   "name": "python",
   "nbconvert_exporter": "python",
   "pygments_lexer": "ipython3",
   "version": "3.5.2"
  },
  "widgets": {
   "state": {},
   "version": "1.1.2"
  }
 },
 "nbformat": 4,
 "nbformat_minor": 1
}
